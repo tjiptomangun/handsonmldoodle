{
 "cells": [
  {
   "cell_type": "code",
   "execution_count": 1,
   "metadata": {},
   "outputs": [
    {
     "data": {
      "text/plain": [
       "3"
      ]
     },
     "execution_count": 1,
     "metadata": {},
     "output_type": "execute_result"
    }
   ],
   "source": [
    "#sklearn.model_selection.StratifiedShuffleSplit\n",
    "#Stratified ShuffleSplit cross-validator\n",
    "#Provides train/test indices to split data in train/test sets.\n",
    "#http://scikit-learn.org/stable/modules/generated/sklearn.model_selection.StratifiedShuffleSplit.html#\n",
    "#http://scikit-learn.org/stable/modules/cross_validation.html#\n",
    "#http://scikit-learn.org/stable/modules/generated/sklearn.model_selection.KFold.html\n",
    "#http://scikit-learn.org/stable/modules/generated/sklearn.model_selection.StratifiedKFold.html#"
   ]
  },
  {
   "cell_type": "code",
   "execution_count": 8,
   "metadata": {},
   "outputs": [
    {
     "data": {
      "text/plain": [
       "3"
      ]
     },
     "execution_count": 8,
     "metadata": {},
     "output_type": "execute_result"
    }
   ],
   "source": [
    "\n",
    "from sklearn.model_selection import StratifiedShuffleSplit\n",
    "import numpy as np\n",
    "\n",
    "#X = np.array([[1, 2], [3, 4], [1, 2], [3, 4], [7, 2]])\n",
    "#Y = np.array([0, 0, 1, 1, 1])\n",
    "X = np.array([[1, 2], [3, 4], [1, 2], [3, 4], [5, 6], [7, 8], [1, 2]])\n",
    "Y = np.array([0, 0, 1, 1, 1, 0, 0])\n",
    "\n",
    "sss = StratifiedShuffleSplit(n_splits = 3, test_size = 0.25, random_state = 0)\n",
    "sss.get_n_splits(X, Y)"
   ]
  },
  {
   "cell_type": "code",
   "execution_count": 9,
   "metadata": {},
   "outputs": [
    {
     "name": "stdout",
     "output_type": "stream",
     "text": [
      "StratifiedShuffleSplit(n_splits=3, random_state=0, test_size=0.25,\n",
      "            train_size=None)\n"
     ]
    }
   ],
   "source": [
    "print(sss)"
   ]
  },
  {
   "cell_type": "code",
   "execution_count": 10,
   "metadata": {},
   "outputs": [
    {
     "name": "stdout",
     "output_type": "stream",
     "text": [
      "TRAIN: [6 2 4 5 1] TEST: [3 0]\n",
      "TRAIN: [3 5 2 1 6] TEST: [0 4]\n",
      "TRAIN: [4 6 3 1 5] TEST: [0 2]\n"
     ]
    }
   ],
   "source": [
    "for train_index, test_index in sss.split(X, Y):\n",
    "    print (\"TRAIN:\", train_index, \"TEST:\", test_index)\n",
    "    X_train, X_test = X[train_index], X[test_index]\n",
    "    Y_train, Y_test = Y[train_index], Y[test_index]"
   ]
  },
  {
   "cell_type": "code",
   "execution_count": null,
   "metadata": {},
   "outputs": [],
   "source": []
  }
 ],
 "metadata": {
  "kernelspec": {
   "display_name": "Python 3",
   "language": "python",
   "name": "python3"
  },
  "language_info": {
   "codemirror_mode": {
    "name": "ipython",
    "version": 3
   },
   "file_extension": ".py",
   "mimetype": "text/x-python",
   "name": "python",
   "nbconvert_exporter": "python",
   "pygments_lexer": "ipython3",
   "version": "3.5.2"
  }
 },
 "nbformat": 4,
 "nbformat_minor": 2
}
