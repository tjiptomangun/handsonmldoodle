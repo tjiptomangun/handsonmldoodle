{
 "cells": [
  {
   "cell_type": "code",
   "execution_count": 1,
   "metadata": {},
   "outputs": [
    {
     "data": {
      "text/plain": [
       "3"
      ]
     },
     "execution_count": 1,
     "metadata": {},
     "output_type": "execute_result"
    }
   ],
   "source": [
    "# sklearn.model_selection.StratifiedKFold\n",
    "# Stratified K-Folds cross-validator\n",
    "# This cross-validation object is a variatoon of KFold that returns stratified folds. \n",
    "# The folds are made by preserving the percentage of samples for each class.\n",
    "# All the folds have size trunc(n_samples/n_splits). The last one has the complementary\n",
    "from sklearn.model_selection import StratifiedKFold\n",
    "import numpy as np\n",
    "X = np.array([[1, 2], [3, 4], [1, 2], [3, 4], [5, 6], [1, 2], [5, 6], [7, 8], [7, 7], [6, 7], [5, 7]])\n",
    "y = np.array([0, 0, 0, 1, 1, 1, 1, 2, 2, 2, 1])\n",
    "skf = StratifiedKFold(n_splits = 3)\n",
    "skf.get_n_splits(X, y)"
   ]
  },
  {
   "cell_type": "code",
   "execution_count": 4,
   "metadata": {},
   "outputs": [
    {
     "name": "stdout",
     "output_type": "stream",
     "text": [
      "TRAIN_IDX: [ 1  2  5  6  8  9 10] TEST_IDX: [0 3 4 7]\n",
      "TRAIN_IDX: [ 0  2  3  4  7  9 10] TEST_IDX: [1 5 6 8]\n",
      "TRAIN_IDX: [0 1 3 4 5 6 7 8] TEST_IDX: [ 2  9 10]\n"
     ]
    }
   ],
   "source": [
    "for train_index, test_index in skf.split(X, y):\n",
    "    print(\"TRAIN_IDX:\", train_index, \"TEST_IDX:\", test_index)\n",
    "    X_train, X_test = X[train_index], X[test_index]\n",
    "    y_train, y_test = y[train_index], y[test_index]"
   ]
  },
  {
   "cell_type": "code",
   "execution_count": null,
   "metadata": {},
   "outputs": [],
   "source": []
  }
 ],
 "metadata": {
  "kernelspec": {
   "display_name": "Python 3",
   "language": "python",
   "name": "python3"
  },
  "language_info": {
   "codemirror_mode": {
    "name": "ipython",
    "version": 3
   },
   "file_extension": ".py",
   "mimetype": "text/x-python",
   "name": "python",
   "nbconvert_exporter": "python",
   "pygments_lexer": "ipython3",
   "version": "3.5.2"
  }
 },
 "nbformat": 4,
 "nbformat_minor": 2
}
